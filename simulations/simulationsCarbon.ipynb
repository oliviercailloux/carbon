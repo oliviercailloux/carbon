{
 "cells": [
  {
   "cell_type": "markdown",
   "id": "857f4c54",
   "metadata": {},
   "source": [
    "Ce notebook permet de réaliser des simulations afin d'ajuster les paramètres de notre proposition de taxe carbone du Lamsade. Nous allons utiliser la formule suivante pour définir le montant de la taxe:\n",
    "$$p([(t_1,c_1), (t_2,c_2),\\ldots,(t_n,c_n)]) = (k\\sum_{i = 0}^n c_i \\ell^{t - t_i})^{\\alpha}$$\n",
    "où :\n",
    "- $t_i$ et $c_i$ sont la date (donnée en mois à partir d'un mois 0 fixé à l'instauration de la taxe) et le coût carbone en TeqCo2 du $i$ème voyage de l'historique de l'utilisateur.rice;\n",
    "- $l$ est un facteur d'atténuation permettant de prendre en compte d'un manière différenciée les émissions récentes de celles plus anciennes.\n",
    "- $k$ est un ''prix linéaire'' affecté à la TeqCO2. \n",
    "- $\\alpha$ est un paramètre permettant d'obtenir un prix croissant de manière concave ou convexe par rapport aux émissions réalisées. "
   ]
  },
  {
   "cell_type": "code",
   "execution_count": 1,
   "id": "52f77100",
   "metadata": {},
   "outputs": [],
   "source": [
    "l = 0.9 #permet une remise à 0 tous les deux ans.\n",
    "\n",
    "#à ajuster\n",
    "k = 500 \n",
    "a = .9 \n",
    "\n",
    "#Fixe le prix de la taxe en fonction d'un historique d'émissions\n",
    "def price(h):\n",
    "    h.sort()#pour que la dernière dépense soit effectivement la dernière de l'historique\n",
    "    t_curr = (h[-1])[0] \n",
    "    s = sum([c*(l**(t_curr - t_c)) for (t_c,c) in h])\n",
    "    return (s*k)**a\n",
    "    \n"
   ]
  },
  {
   "cell_type": "markdown",
   "id": "15fc2456",
   "metadata": {},
   "source": [
    "Les empreintes carbones en TeqCO2 de quelques déstinations (calculées à partir du calculateur du site labos1point5.org). "
   ]
  },
  {
   "cell_type": "code",
   "execution_count": 2,
   "id": "9e83e3ad",
   "metadata": {},
   "outputs": [],
   "source": [
    "parisToulouse = 0.352\n",
    "parisNY = 1.803\n",
    "parisSydney = 5.185"
   ]
  },
  {
   "cell_type": "markdown",
   "id": "962b1e83",
   "metadata": {},
   "source": [
    "Quelques historiques possibles."
   ]
  },
  {
   "cell_type": "code",
   "execution_count": 3,
   "id": "b6c10cc5",
   "metadata": {},
   "outputs": [],
   "source": [
    "HistMCF = [(8,0.6),(2,0.2)]\n",
    "HistCR = [(6,1.8),(9,0.9),(3,0.5),(10,0.4)]\n",
    "HistDC = [(5,0.9),(8,0.5),(2,0.2)]"
   ]
  },
  {
   "cell_type": "markdown",
   "id": "3c0f6e3a",
   "metadata": {},
   "source": [
    "Quelques simulations."
   ]
  },
  {
   "cell_type": "code",
   "execution_count": 9,
   "id": "bbf4c8e4",
   "metadata": {},
   "outputs": [
    {
     "name": "stdout",
     "output_type": "stream",
     "text": [
      "223.51391898902352\n",
      "921.2228632562443\n",
      "1349.8065344181387\n"
     ]
    }
   ],
   "source": [
    "print(price(HistMCF+[(12,parisToulouse)]))\n",
    "print(price(HistCR+[(12,parisNY)]))\n",
    "print(price(HistDC+[(12,parisSydney)])) "
   ]
  },
  {
   "cell_type": "markdown",
   "id": "a15f8cdc",
   "metadata": {},
   "source": [
    "Simulation dans le cadre d'un projet ANR ou chaque chercheur possède un budget 3k euros par an pour voyager. Les prix sont estimés à partir du site AirFrance. Les consommations carbones sont calculées à partir du site de labos1point5.org."
   ]
  },
  {
   "cell_type": "code",
   "execution_count": 5,
   "id": "23b2c2d9",
   "metadata": {},
   "outputs": [],
   "source": [
    "voyageParisTokyoPrix = 1500\n",
    "voyageParisTokyoCarbone = 2.981\n",
    "voyageParisLeCapPrix = 700\n",
    "voyageParisLeCapCarbone = 2.869\n",
    "voyageParisBuenosAiresPrix = 1200\n",
    "voyageParisBuenosAiresCarbone = 3.388 \n",
    "voyageParisPraguePrix = 120\n",
    "voyageParisPragueCarbone = 0.504 #Train 0.034\n",
    "voyageParisLisbonePrix = 110\n",
    "voyageParisLisboneCarbone = 0.579 #Train 0.056"
   ]
  },
  {
   "cell_type": "code",
   "execution_count": 17,
   "id": "bc7d92b2",
   "metadata": {},
   "outputs": [
    {
     "name": "stdout",
     "output_type": "stream",
     "text": [
      "805.4193614635503\n",
      "578.6109396448514\n"
     ]
    }
   ],
   "source": [
    "print(price(HistMCF+[(12,voyageParisBuenosAiresCarbone)]))\n",
    "print(price(HistMCF+[(12,voyageParisBuenosAiresCarbone), (19,voyageParisPragueCarbone)]))"
   ]
  },
  {
   "cell_type": "markdown",
   "id": "b9447a18",
   "metadata": {},
   "source": [
    "En principe avec un budget de 3k par an par chercheur et à utilisation du budget maximale, la consomation carbone peut ici facilement diminuer de 50%. Cependant le budget n'est pas utilisé de manière maximale en pratique."
   ]
  },
  {
   "cell_type": "code",
   "execution_count": null,
   "id": "52482d0b",
   "metadata": {},
   "outputs": [],
   "source": []
  }
 ],
 "metadata": {
  "kernelspec": {
   "display_name": "Python 3 (ipykernel)",
   "language": "python",
   "name": "python3"
  },
  "language_info": {
   "codemirror_mode": {
    "name": "ipython",
    "version": 3
   },
   "file_extension": ".py",
   "mimetype": "text/x-python",
   "name": "python",
   "nbconvert_exporter": "python",
   "pygments_lexer": "ipython3",
   "version": "3.9.5"
  }
 },
 "nbformat": 4,
 "nbformat_minor": 5
}
