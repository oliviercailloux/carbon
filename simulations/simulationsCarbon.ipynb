{
 "cells": [
  {
   "cell_type": "markdown",
   "id": "857f4c54",
   "metadata": {},
   "source": [
    "Ce notebook permet de réaliser des simulations afin d'ajuster les paramètres de notre proposition de taxe carbone du Lamsade. Nous allons utiliser la formule suivante pour définir le montant de la taxe:\n",
    "$$p([(t_1,c_1), (t_2,c_2),\\ldots,(t_n,c_n)]) = r \\times \\alpha^{l_{n-1}^{t_n}}(\\alpha^{c_n}-1)$$\n",
    "\n",
    "où :\n",
    "- $t_i$ et $c_i$ sont la date (donnée en années à partir d'une année 0 fixée à l'instauration de la taxe) et le coût carbone en TeqCo2 du $i$ème voyage de l'historique de l'utilisateur.rice;\n",
    "- $l_{n-1}^{t_n} = \\sum_{i = 0}^{n-1} c_i \\lambda^{t_n - t_i}$ est une somme des émissions passées avec $\\lambda$  un facteur d'atténuation permettant de prendre en compte d'un manière différenciée les émissions récentes de celles plus anciennes.\n",
    "- $\\alpha = 1 + \\epsilon$, $k$ est un ''prix linéaire'' affecté à la TeqCO2 et $r = \\frac{k}{\\log(\\alpha)}$ . "
   ]
  },
  {
   "cell_type": "code",
   "execution_count": 5,
   "id": "52f77100",
   "metadata": {},
   "outputs": [],
   "source": [
    "import numpy as np\n",
    "l = 0.5#np.sqrt(2)/2.\n",
    "\n",
    "#à ajuster\n",
    "k = 71 \n",
    "a = 1.4\n",
    "r = k/np.log(a)\n",
    "\n",
    "\n",
    "#Fixe le prix de la taxe en fonction d'un historique d'émissions\n",
    "def price(h):\n",
    "    h.sort()#pour que la dernière dépense soit effectivement la dernière de l'historique\n",
    "    (t_curr,c_curr) = h[-1] \n",
    "    s = sum([c*(l**(t_curr - t_c)) for (t_c,c) in h[:-1]])\n",
    "    return r*(a**s)*(a**c_curr - 1)\n",
    "    \n"
   ]
  },
  {
   "cell_type": "markdown",
   "id": "15fc2456",
   "metadata": {},
   "source": [
    "Les empreintes carbones en TeqCO2 de quelques déstinations (calculées à partir du calculateur du site labos1point5.org). "
   ]
  },
  {
   "cell_type": "code",
   "execution_count": 9,
   "id": "9e83e3ad",
   "metadata": {},
   "outputs": [
    {
     "data": {
      "text/plain": [
       "0.3535533905932738"
      ]
     },
     "execution_count": 9,
     "metadata": {},
     "output_type": "execute_result"
    }
   ],
   "source": [
    "parisToulouse = 0.352\n",
    "parisNY = 1.803\n",
    "parisSydney = 5.185"
   ]
  },
  {
   "cell_type": "markdown",
   "id": "962b1e83",
   "metadata": {},
   "source": [
    "Quelques historiques possibles."
   ]
  },
  {
   "cell_type": "code",
   "execution_count": 7,
   "id": "b6c10cc5",
   "metadata": {},
   "outputs": [],
   "source": [
    "HistMCF = [(0.8,0.6),(0.2,0.2)]\n",
    "HistCR = [(0.6,1.8),(0.9,0.9),(0.3,0.5),(1,0.4)]\n",
    "HistDC = [(0.5,0.9),(0.8,0.5),(0.2,0.2)]"
   ]
  },
  {
   "cell_type": "markdown",
   "id": "3c0f6e3a",
   "metadata": {},
   "source": [
    "Quelques simulations."
   ]
  },
  {
   "cell_type": "code",
   "execution_count": 8,
   "id": "bbf4c8e4",
   "metadata": {},
   "outputs": [
    {
     "name": "stdout",
     "output_type": "stream",
     "text": [
      "176.04675339932567\n",
      "40.744966421162175\n",
      "1430.329719718974\n"
     ]
    }
   ],
   "source": [
    "#print(price(HistMCF+[(1.2,parisToulouse)]))\n",
    "#print(price(HistCR+[(1.3,parisNY)]))\n",
    "#print(price(HistDC+[(1.1,parisSydney)]))\n",
    "\n",
    "print(price([(0,parisNY)]))\n",
    "past = [(0,parisNY)]\n",
    "print(price(past+[(0.5,parisToulouse)]))\n",
    "past += [(0.5,parisToulouse)] \n",
    "print(price(past+[(1.1,parisSydney)]))"
   ]
  },
  {
   "cell_type": "markdown",
   "id": "a15f8cdc",
   "metadata": {},
   "source": [
    "Simulation dans le cadre d'un projet ANR ou chaque chercheur possède un budget 3k euros par an pour voyager. Les prix sont estimés à partir du site AirFrance. Les consommations carbones sont calculées à partir du site de labos1point5.org."
   ]
  },
  {
   "cell_type": "code",
   "execution_count": 16,
   "id": "23b2c2d9",
   "metadata": {},
   "outputs": [],
   "source": [
    "voyageParisTokyoPrix = 1500\n",
    "voyageParisTokyoCarbone = 2.981\n",
    "voyageParisLeCapPrix = 700\n",
    "voyageParisLeCapCarbone = 2.869\n",
    "voyageParisBuenosAiresPrix = 1200\n",
    "voyageParisBuenosAiresCarbone = 3.388 \n",
    "voyageParisPraguePrix = 120\n",
    "voyageParisPragueCarbone = 0.504 #Train 0.034\n",
    "voyageParisLisbonePrix = 110\n",
    "voyageParisLisboneCarbone = 0.579 #Train 0.056"
   ]
  },
  {
   "cell_type": "code",
   "execution_count": 18,
   "id": "bc7d92b2",
   "metadata": {},
   "outputs": [
    {
     "name": "stdout",
     "output_type": "stream",
     "text": [
      "1422.4154951969174\n",
      "830.2944686721631\n"
     ]
    }
   ],
   "source": [
    "print(price(HistMCF+[(1,voyageParisBuenosAiresCarbone)]))\n",
    "print(price(HistMCF+[(1,voyageParisBuenosAiresCarbone), (1.7,voyageParisPragueCarbone)]))"
   ]
  },
  {
   "cell_type": "markdown",
   "id": "b9447a18",
   "metadata": {},
   "source": [
    "En principe avec un budget de 3k par an par chercheur et à utilisation du budget maximale, la consomation carbone peut ici facilement diminuer de 50%. Cependant le budget n'est pas utilisé de manière maximale en pratique."
   ]
  },
  {
   "cell_type": "code",
   "execution_count": null,
   "id": "52482d0b",
   "metadata": {},
   "outputs": [],
   "source": []
  }
 ],
 "metadata": {
  "kernelspec": {
   "display_name": "Python 3 (ipykernel)",
   "language": "python",
   "name": "python3"
  },
  "language_info": {
   "codemirror_mode": {
    "name": "ipython",
    "version": 3
   },
   "file_extension": ".py",
   "mimetype": "text/x-python",
   "name": "python",
   "nbconvert_exporter": "python",
   "pygments_lexer": "ipython3",
   "version": "3.9.5"
  }
 },
 "nbformat": 4,
 "nbformat_minor": 5
}
