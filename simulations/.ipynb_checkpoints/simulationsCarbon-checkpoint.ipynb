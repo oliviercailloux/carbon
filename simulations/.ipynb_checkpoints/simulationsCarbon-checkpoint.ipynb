{
 "cells": [
  {
   "cell_type": "markdown",
   "id": "f5a0d70a",
   "metadata": {},
   "source": [
    "Ce notebook permet de réaliser des simulations afin d'ajuster les paramètres de notre proposition de taxe carbone du Lamsade. Nous allons utiliser la formule suivante pour définir le montant de la taxe:\n",
    "$$p([(t_1,c_1), (t_2,c_2),\\ldots,(t_n,c_n)]) = (k\\sum_{i = 0}^n c_i \\ell^{t - t_i})^{\\alpha}$$\n",
    "où :\n",
    "- $t_i$ et $c_i$ sont la date (donnée en mois à partir d'un mois 0 fixé à l'instauration de la taxe) et le coût carbone en TeqCo2 du $i$ème voyage de l'historique de l'utilisateur.rice;\n",
    "- $l$ est un facteur d'atténuation permettant de prendre en compte d'un manière différenciée les émissions récentes de celles plus anciennes.\n",
    "- $k$ est un ''prix linéaire'' affecté à la TeqCO2. \n",
    "- $\\alpha$ est un paramètre permettant d'obtenir un prix croissant de manière concave ou convexe par rapport aux émissions réalisées. "
   ]
  },
  {
   "cell_type": "code",
   "execution_count": 24,
   "id": "3705c77e",
   "metadata": {},
   "outputs": [],
   "source": [
    "l = 0.9 #permet une remise à 0 tous les deux ans.\n",
    "\n",
    "#à ajuster\n",
    "k = 500 \n",
    "a = .9 \n",
    "\n",
    "#Fixe le prix de la taxe en fonction d'un historique d'émissions\n",
    "def price(h):\n",
    "    h.sort()#pour que la dernière dépense soit effectivement la dernière de l'historique\n",
    "    t_curr = (h[-1])[0] \n",
    "    s = sum([c*(l**(t_curr - t_c)) for (t_c,c) in h])\n",
    "    return (s*k)**a\n",
    "    \n"
   ]
  },
  {
   "cell_type": "markdown",
   "id": "d227e0b0",
   "metadata": {},
   "source": [
    "Les empreintes carbones en TeqCO2 de quelques déstinations (calculées à partir du calculateur du site labos1point5.org). "
   ]
  },
  {
   "cell_type": "code",
   "execution_count": 19,
   "id": "aeb682eb",
   "metadata": {},
   "outputs": [],
   "source": [
    "parisToulouse = 0.176\n",
    "parisNY = 0.902\n",
    "parisSydney = 2.592"
   ]
  },
  {
   "cell_type": "markdown",
   "id": "c1184007",
   "metadata": {},
   "source": [
    "Quelques historiques possibles."
   ]
  },
  {
   "cell_type": "code",
   "execution_count": 25,
   "id": "7451a816",
   "metadata": {},
   "outputs": [],
   "source": [
    "HistMCF = [(8,0.6),(2,0.2)]\n",
    "HistCR = [(6,1.8),(9,0.9),(3,0.5),(10,0.4)]\n",
    "HistDC = [(5,0.9),(8,0.5),(2,0.2)]"
   ]
  },
  {
   "cell_type": "markdown",
   "id": "8370f04d",
   "metadata": {},
   "source": [
    "Quelques simulations."
   ]
  },
  {
   "cell_type": "code",
   "execution_count": 27,
   "id": "4b26f7ea",
   "metadata": {},
   "outputs": [
    {
     "name": "stdout",
     "output_type": "stream",
     "text": [
      "179.5832127031102\n",
      "728.9225140692141\n",
      "1085.9750107115867\n"
     ]
    }
   ],
   "source": [
    "print(price(HistMCF+[(12,parisToulouse)]))\n",
    "print(price(HistCR+[(12,parisNY)]))\n",
    "print(price(HistDC+[(12,parisSydney)])) "
   ]
  },
  {
   "cell_type": "code",
   "execution_count": null,
   "id": "10e251f3",
   "metadata": {},
   "outputs": [],
   "source": []
  }
 ],
 "metadata": {
  "kernelspec": {
   "display_name": "Python 3 (ipykernel)",
   "language": "python",
   "name": "python3"
  },
  "language_info": {
   "codemirror_mode": {
    "name": "ipython",
    "version": 3
   },
   "file_extension": ".py",
   "mimetype": "text/x-python",
   "name": "python",
   "nbconvert_exporter": "python",
   "pygments_lexer": "ipython3",
   "version": "3.9.5"
  }
 },
 "nbformat": 4,
 "nbformat_minor": 5
}
