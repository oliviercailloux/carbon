{
 "cells": [
  {
   "cell_type": "code",
   "execution_count": 4,
   "id": "0805e440",
   "metadata": {},
   "outputs": [],
   "source": [
    "from random import randint"
   ]
  },
  {
   "cell_type": "code",
   "execution_count": 5,
   "id": "15396d6d",
   "metadata": {},
   "outputs": [
    {
     "name": "stdout",
     "output_type": "stream",
     "text": [
      "Using Python-MIP package version 1.5.0\n"
     ]
    }
   ],
   "source": [
    "from mip import *"
   ]
  },
  {
   "cell_type": "code",
   "execution_count": 27,
   "id": "f2ad47d3",
   "metadata": {},
   "outputs": [],
   "source": [
    "\"\"\" \n",
    "Parameters\n",
    "------------\n",
    "n : int \n",
    "    the number of triples to be generate\n",
    "l : int\n",
    "    lower bound of the values in the triples\n",
    "u : int\n",
    "    upper bound of the values in the triples\n",
    "    \n",
    "Returns\n",
    "-------\n",
    "pop : set((int,int,int)) \n",
    "      a set of triples\n",
    "\"\"\"\n",
    "def generate_pop(n,l,u):\n",
    "    pop = set()\n",
    "    while(len(pop) < n):\n",
    "        pop.add((randint(l,u),randint(l,u),randint(l,u)))\n",
    "    return pop\n",
    "\n",
    "\"\"\"\n",
    "Parameters\n",
    "----------\n",
    "t1 : (int, int, int )\n",
    "    the first triple\n",
    "t2 : (int, int, int )\n",
    "    the second triple\n",
    "    \n",
    "Returns\n",
    "-------\n",
    "true if t1 WeaklyPD t2 and false otherwise \n",
    "\"\"\"\n",
    "def PD_dominates(t1,t2):\n",
    "    return (t1[0]>=t2[0] and t1[1]>=t2[1] and t1[2]>=t2[2])\n",
    "                \n",
    "                \n",
    "\"\"\"\n",
    "Parameters\n",
    "----------\n",
    "pop : set((int,int,int))\n",
    "      a set of triples\n",
    "\n",
    "Returns\n",
    "-------\n",
    "X : set((int,int,int))\n",
    "\"\"\"\n",
    "def generate_X_PD(pop):\n",
    "    X = set()\n",
    "    \n",
    "    #X starts with a random subset of pop\n",
    "    for t in pop:                                                                                                                    \n",
    "        if randint(0, 1):\n",
    "            X.add(t)\n",
    "    \n",
    "    #We complement X to ensure PD closure\n",
    "    Xcp = set(X)\n",
    "    for t1 in Xcp:\n",
    "        for t2 in (pop - Xcp):\n",
    "            if PD_dominates(t2,t1):\n",
    "                X.add(t2)\n",
    "    return X\n",
    "\n",
    "\"\"\"\n",
    "Parameters\n",
    "----------\n",
    "pop :\n",
    "X :\n",
    "\n",
    "Returns \n",
    "-------\n",
    "\"\"\"\n",
    "def test_LP(pop,X):\n",
    "    t_list = list(set([t for (_,_,t) in pop]))\n",
    "    Tau = dict()\n",
    "    \n",
    "    m = Model(sense=MINIMIZE, solver_name=CBC)\n",
    "    m.verbose = 0\n",
    "    for t in t_list:\n",
    "        Tau[t]=m.add_var(var_type=CONTINUOUS, lb=0)\n",
    "    \n",
    "    for i in range(len(t_list)):\n",
    "        for j in range(i+1,len(t_list)):\n",
    "            if t_list[i] < t_list[j]:\n",
    "                m += Tau[t_list[i]] <= Tau[t_list[j]]\n",
    "            else:\n",
    "                m += Tau[t_list[j]] <= Tau[t_list[i]]\n",
    "    \n",
    "    for t1 in X:\n",
    "        for t2 in (pop-X):\n",
    "            if t2[0] >= t1[0]:\n",
    "                m += t1[1] + Tau[t1[2]] >= t2[1] + Tau[t2[2]]\n",
    "    m.objective = minimize(xsum(Tau[t] for t in t_list))\n",
    "    status = m.optimize()\n",
    "    return (status == OptimizationStatus.INFEASIBLE)"
   ]
  },
  {
   "cell_type": "code",
   "execution_count": 38,
   "id": "d346691e",
   "metadata": {},
   "outputs": [
    {
     "name": "stdout",
     "output_type": "stream",
     "text": [
      "pop : {(36, 18, 42), (38, 29, 4), (12, 34, 3), (34, 28, 46), (47, 30, 49)}\n",
      "X : {(47, 30, 49), (12, 34, 3), (36, 18, 42)}\n"
     ]
    }
   ],
   "source": [
    "n = 5\n",
    "ub= 50\n",
    "pop = generate_pop(n,0,ub)\n",
    "X = generate_X_PD(pop)\n",
    "while(not test_LP(pop,X)):\n",
    "    pop = generate_pop(n,0,ub)\n",
    "    X = generate_X_PD(pop)\n",
    "    \n",
    "print(\"pop : \" + str(pop))\n",
    "print(\"X : \" + str(X))"
   ]
  },
  {
   "cell_type": "code",
   "execution_count": null,
   "id": "54a72d8e",
   "metadata": {},
   "outputs": [],
   "source": []
  },
  {
   "cell_type": "code",
   "execution_count": null,
   "id": "02fdfea4",
   "metadata": {},
   "outputs": [],
   "source": []
  }
 ],
 "metadata": {
  "kernelspec": {
   "display_name": "Python 3 (ipykernel)",
   "language": "python",
   "name": "python3"
  },
  "language_info": {
   "codemirror_mode": {
    "name": "ipython",
    "version": 3
   },
   "file_extension": ".py",
   "mimetype": "text/x-python",
   "name": "python",
   "nbconvert_exporter": "python",
   "pygments_lexer": "ipython3",
   "version": "3.9.5"
  }
 },
 "nbformat": 4,
 "nbformat_minor": 5
}
